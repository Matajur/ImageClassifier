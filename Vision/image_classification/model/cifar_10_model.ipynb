{
 "cells": [
  {
   "cell_type": "markdown",
   "metadata": {},
   "source": [
    "# Convolutional NN Model for Classification of the CIFAR-10 DataSet"
   ]
  },
  {
   "cell_type": "markdown",
   "metadata": {},
   "source": [
    "## Introduction\n",
    "The CIFAR-10 dataset consists of 60000 32x32 color images in 10 classes, with 6000 images per class. There are 50000 training images and 10000 test images. It has 10 categories of unrelated output labels: [0: Airplane, 1: Automobile, 2: Bird, 3: Cat, 4: Deer, 5: Dog, 6: Frog, 7: Horse, 8: Ship, 9: Truck].\n",
    "\n",
    "\n",
    "\n",
    "\n",
    "\n",
    "\n",
    "\n",
    "\n",
    "\n"
   ]
  },
  {
   "cell_type": "markdown",
   "metadata": {},
   "source": [
    "### Imports"
   ]
  },
  {
   "cell_type": "code",
   "execution_count": 1,
   "metadata": {},
   "outputs": [
    {
     "name": "stdout",
     "output_type": "stream",
     "text": [
      "WARNING:tensorflow:From c:\\Users\\danie\\AppData\\Local\\Programs\\Python\\Python311\\Lib\\site-packages\\keras\\src\\losses.py:2976: The name tf.losses.sparse_softmax_cross_entropy is deprecated. Please use tf.compat.v1.losses.sparse_softmax_cross_entropy instead.\n",
      "\n"
     ]
    }
   ],
   "source": [
    "import keras\n",
    "import matplotlib.pyplot as plt\n",
    "import numpy as np\n",
    "import tensorflow as tf\n",
    "import visualkeras\n",
    "from keras import backend as K\n",
    "from keras.applications.vgg16 import VGG16\n",
    "from keras.applications import EfficientNetV2L, ResNet50, ResNet50V2, ResNet152, ResNet152V2, EfficientNetB0\n",
    "from keras.callbacks import ModelCheckpoint, ReduceLROnPlateau\n",
    "from keras.datasets import cifar10\n",
    "from keras.preprocessing.image import ImageDataGenerator\n",
    "from keras.layers import (\n",
    "    BatchNormalization,\n",
    "    Conv2D,\n",
    "    Dense,\n",
    "    Dropout,\n",
    "    Flatten,\n",
    "    MaxPooling2D,\n",
    "    GlobalAveragePooling2D,\n",
    ")\n",
    "from keras.metrics import F1Score\n",
    "from keras.models import Sequential\n",
    "from keras.optimizers import Adam\n",
    "from keras.utils import to_categorical, plot_model\n",
    "from time import time"
   ]
  },
  {
   "cell_type": "markdown",
   "metadata": {},
   "source": [
    "### Loading the CIFAR-10 DataSet from Keras"
   ]
  },
  {
   "cell_type": "code",
   "execution_count": 2,
   "metadata": {},
   "outputs": [],
   "source": [
    "(train_data, train_labels), (test_data, test_labels) = cifar10.load_data()"
   ]
  },
  {
   "cell_type": "code",
   "execution_count": 3,
   "metadata": {},
   "outputs": [
    {
     "name": "stdout",
     "output_type": "stream",
     "text": [
      "(50000, 32, 32, 3)\n",
      "(10000, 32, 32, 3)\n",
      "(50000, 1)\n",
      "(10000, 1)\n",
      "<class 'numpy.ndarray'>\n",
      "<class 'numpy.ndarray'>\n"
     ]
    }
   ],
   "source": [
    "print(train_data.shape)\n",
    "print(test_data.shape)\n",
    "\n",
    "print(train_labels.shape)\n",
    "print(test_labels.shape)\n",
    "\n",
    "print(type(train_data))\n",
    "print(type(test_data))"
   ]
  },
  {
   "cell_type": "markdown",
   "metadata": {},
   "source": [
    "### Data Visualization"
   ]
  },
  {
   "cell_type": "code",
   "execution_count": 4,
   "metadata": {},
   "outputs": [
    {
     "name": "stdout",
     "output_type": "stream",
     "text": [
      "[[152 112  51]\n",
      " [151 110  40]\n",
      " [159 114  45]\n",
      " [166 116  56]\n",
      " [162 112  49]\n",
      " [160 113  43]\n",
      " [164 117  47]\n",
      " [162 114  45]\n",
      " [163 116  46]\n",
      " [156 110  38]\n",
      " [155 111  41]\n",
      " [159 110  54]\n",
      " [163 113  52]\n",
      " [170 119  41]\n",
      " [171 117  40]\n",
      " [171 115  33]\n",
      " [169 115  30]\n",
      " [160 111  33]\n",
      " [154 112  41]\n",
      " [151 115  50]\n",
      " [145 110  53]\n",
      " [139 104  55]\n",
      " [140 102  52]\n",
      " [141 100  48]\n",
      " [149 105  50]\n",
      " [147 102  46]\n",
      " [145 102  45]\n",
      " [142  97  38]\n",
      " [143  98  34]\n",
      " [136  95  31]\n",
      " [125  91  32]\n",
      " [119  88  34]]\n",
      "(32, 32, 3)\n",
      "3\n"
     ]
    }
   ],
   "source": [
    "print(test_data[0][1])\n",
    "print(test_data[0].shape)\n",
    "print(test_labels[0][0])"
   ]
  },
  {
   "cell_type": "code",
   "execution_count": 5,
   "metadata": {},
   "outputs": [
    {
     "data": {
      "text/plain": [
       "10"
      ]
     },
     "execution_count": 5,
     "metadata": {},
     "output_type": "execute_result"
    }
   ],
   "source": [
    "number_classes = len(set(test_labels.T[0]))\n",
    "number_classes"
   ]
  },
  {
   "cell_type": "markdown",
   "metadata": {},
   "source": [
    "There are 10 classes with the same amount of samples in the fashion_mnist dataset. Let's print their random examples."
   ]
  },
  {
   "cell_type": "code",
   "execution_count": 6,
   "metadata": {},
   "outputs": [],
   "source": [
    "class_names = [\n",
    "    \"Airplane\",\n",
    "    \"Automobile\",\n",
    "    \"Bird\",\n",
    "    \"Cat\",\n",
    "    \"Deer\",\n",
    "    \"Dog\",\n",
    "    \"Frog\",\n",
    "    \"Horse\",\n",
    "    \"Ship\",\n",
    "    \"Truck\",\n",
    "]"
   ]
  },
  {
   "cell_type": "code",
   "execution_count": 7,
   "metadata": {},
   "outputs": [
    {
     "data": {
      "text/plain": [
       "array([[3, 8, 8, ..., 5, 1, 7]], dtype=uint8)"
      ]
     },
     "execution_count": 7,
     "metadata": {},
     "output_type": "execute_result"
    }
   ],
   "source": [
    "test_labels.T"
   ]
  },
  {
   "cell_type": "code",
   "execution_count": 8,
   "metadata": {},
   "outputs": [],
   "source": [
    "sorter = np.argsort(test_labels.T[0])\n",
    "numbers = np.array([i for i in range(number_classes)])\n",
    "indices = sorter[np.searchsorted(test_labels.T[0], numbers, sorter=sorter)]\n",
    "test_images = test_data[indices]"
   ]
  },
  {
   "cell_type": "code",
   "execution_count": 9,
   "metadata": {},
   "outputs": [
    {
     "data": {
      "image/png": "[encoded data removed]",
      "text/plain": [
       "<Figure size 1200x600 with 10 Axes>"
      ]
     },
     "metadata": {},
     "output_type": "display_data"
    }
   ],
   "source": [
    "sorter = np.argsort(test_labels.T[0])\n",
    "numbers = np.array([i for i in range(number_classes)])\n",
    "indices = sorter[np.searchsorted(test_labels.T[0], numbers, sorter=sorter)]\n",
    "test_images = test_data[indices]\n",
    "\n",
    "plt.figure(figsize=(12, 6))\n",
    "for i in range(number_classes):\n",
    "    plt.subplot(2, 5, i + 1)\n",
    "    plt.imshow(test_images[i])\n",
    "    plt.title(f\"#{i+1}\\n{class_names[i]}\")\n",
    "    plt.axis(\"off\")\n",
    "plt.show()"
   ]
  },
  {
   "cell_type": "markdown",
   "metadata": {},
   "source": [
    "## Data Preparation"
   ]
  },
  {
   "cell_type": "markdown",
   "metadata": {},
   "source": [
    "### Data Augmentation"
   ]
  },
  {
   "cell_type": "code",
   "execution_count": 10,
   "metadata": {},
   "outputs": [],
   "source": [
    "datagen = ImageDataGenerator(\n",
    "    rotation_range=30,\n",
    "    width_shift_range=0.2,\n",
    "    height_shift_range=0.2,\n",
    "    shear_range=0.2,\n",
    "    zoom_range=0.2,\n",
    "    horizontal_flip=True,\n",
    "    fill_mode='nearest'\n",
    ")"
   ]
  },
  {
   "cell_type": "markdown",
   "metadata": {},
   "source": [
    "### Data Normalization"
   ]
  },
  {
   "cell_type": "code",
   "execution_count": 11,
   "metadata": {},
   "outputs": [],
   "source": [
    "X_train = train_data.astype(\"float32\") / 255\n",
    "X_test = test_data.astype(\"float32\") / 255\n",
    "\n",
    "y_train = to_categorical(train_labels, number_classes)\n",
    "y_test = to_categorical(test_labels, number_classes)"
   ]
  },
  {
   "cell_type": "markdown",
   "metadata": {},
   "source": [
    "### Resizing Data\n",
    "Specify an integer multiplier in the range of 4"
   ]
  },
  {
   "cell_type": "code",
   "execution_count": 12,
   "metadata": {},
   "outputs": [],
   "source": [
    "multiplier = 1\n",
    "input_shape = (\n",
    "    multiplier * test_data[0].shape[0],\n",
    "    multiplier * test_data[0].shape[1],\n",
    "    test_data[0].shape[2],\n",
    ")"
   ]
  },
  {
   "cell_type": "code",
   "execution_count": 13,
   "metadata": {},
   "outputs": [],
   "source": [
    "X_train = tf.image.resize(X_train, (input_shape[0], input_shape[1]))\n",
    "X_test = tf.image.resize(X_test, (input_shape[0], input_shape[1]))"
   ]
  },
  {
   "cell_type": "code",
   "execution_count": 14,
   "metadata": {},
   "outputs": [
    {
     "name": "stdout",
     "output_type": "stream",
     "text": [
      "(10000, 32, 32, 3)\n",
      "(50000, 32, 32, 3)\n"
     ]
    }
   ],
   "source": [
    "print(test_data.shape)\n",
    "print(X_train.shape)"
   ]
  },
  {
   "cell_type": "markdown",
   "metadata": {},
   "source": [
    "### Plotter of Learning Curves"
   ]
  },
  {
   "cell_type": "code",
   "execution_count": 15,
   "metadata": {},
   "outputs": [],
   "source": [
    "def plot_results(history):\n",
    "    history_dict = history.history\n",
    "\n",
    "    epochs = range(1, len(history_dict[\"accuracy\"]) + 1)\n",
    "\n",
    "    plt.plot(epochs, history_dict[\"loss\"], \"bo\", label=\"Training loss\")\n",
    "    plt.plot(epochs, history_dict[\"val_loss\"], \"b\", label=\"Validation loss\")\n",
    "    plt.title(\"Training and validation loss\")\n",
    "    plt.xlabel(\"Epochs\")\n",
    "    plt.ylabel(\"Loss\")\n",
    "    plt.legend()\n",
    "    plt.show()\n",
    "\n",
    "    plt.plot(epochs, history_dict[\"accuracy\"], \"bo\", label=\"Training acc\"),\n",
    "    plt.plot(epochs, history_dict[\"val_accuracy\"], \"b\", label=\"Validation acc\")\n",
    "    plt.title(\"Training and validation Accuracy\")\n",
    "    plt.xlabel(\"Epochs\")\n",
    "    plt.ylabel(\"Precision\")\n",
    "    plt.legend()\n",
    "    plt.show()\n",
    "\n",
    "    \"\"\"\n",
    "    plt.plot(epochs, np.mean(history_dict[\"f1_score\"], axis=1), \"bo\", label=\"Training F1 Score\")\n",
    "    plt.plot(epochs, np.mean(history_dict[\"val_f1_score\"], axis=1), \"b\", label=\"Validation F1 Score\")\n",
    "    plt.title(\"Training and validation F1 Score\")\n",
    "    plt.xlabel(\"Epochs\")\n",
    "    plt.ylabel(\"Precision\")\n",
    "    plt.legend()\n",
    "    plt.show()\n",
    "    \"\"\""
   ]
  },
  {
   "cell_type": "markdown",
   "metadata": {},
   "source": [
    "### Plotter of Model's Score"
   ]
  },
  {
   "cell_type": "code",
   "execution_count": 16,
   "metadata": {},
   "outputs": [],
   "source": [
    "def plot_score(total_results, per_class_accuracy, time_delta):\n",
    "    print(f\"\\nDuration -> {time_delta:.1f}s\")\n",
    "\n",
    "    print(\"|__Metric__\", end=\"\")\n",
    "    for i in range(10):\n",
    "        print(f\"|___{i}___\", end=\"\")\n",
    "    print(\"|_Total_|\")\n",
    "\n",
    "    \"\"\"\n",
    "    print(f\"|_F1_Score_\", end=\"|\")\n",
    "    for i in range(10):\n",
    "        print(f\"_{np.mean(total_results[2][i])*100:.1f}%_\", end=\"|\")\n",
    "    print(f\"_{np.mean(total_results[2])*100:.1f}%_|\")\n",
    "    \"\"\"\n",
    "\n",
    "    print(\"|_Accuracy_\", end=\"|\")\n",
    "    for i in range(10):\n",
    "        print(f\"_{per_class_accuracy[i]*100:.1f}%_\", end=\"|\")\n",
    "    print(f\"_{np.mean(total_results[1])*100:.1f}%_|\")"
   ]
  },
  {
   "cell_type": "markdown",
   "metadata": {},
   "source": [
    "### Model Evaluator"
   ]
  },
  {
   "cell_type": "code",
   "execution_count": 17,
   "metadata": {},
   "outputs": [],
   "source": [
    "def evaluate_model(model, epochs=100, batch_size=64, name=\"cnn_86.keras\"):\n",
    "    start = time()\n",
    "\n",
    "    checkpoint = ModelCheckpoint(\n",
    "        name, monitor=\"val_accuracy\", save_best_only=True, verbose=1\n",
    "    )\n",
    "    reduce_lr = ReduceLROnPlateau(\n",
    "        monitor=\"val_loss\", factor=0.2, patience=5, min_lr=1e-6, verbose=1\n",
    "    )\n",
    "\n",
    "    history = model.fit(\n",
    "        datagen.flow(X_train, y_train, batch_size=batch_size),\n",
    "        epochs=epochs,\n",
    "        verbose=1,\n",
    "        validation_data=(X_test, y_test),\n",
    "        callbacks=[checkpoint, reduce_lr],\n",
    "    )\n",
    "\n",
    "    results = model.evaluate(X_test, y_test)\n",
    "\n",
    "    time_delta = time() - start\n",
    "\n",
    "    per_class_accuracy = []\n",
    "    for i in range(number_classes):\n",
    "        res = model.evaluate(\n",
    "            X_test[y_test.argmax(axis=1) == i],\n",
    "            y_test[y_test.argmax(axis=1) == i],\n",
    "        )\n",
    "        per_class_accuracy.append(res[1])\n",
    "\n",
    "    plot_score(results, per_class_accuracy, time_delta)\n",
    "\n",
    "    plot_results(history)\n",
    "\n",
    "    return history"
   ]
  },
  {
   "cell_type": "markdown",
   "metadata": {},
   "source": [
    "## Study"
   ]
  },
  {
   "cell_type": "markdown",
   "metadata": {},
   "source": [
    "### CNN Model with 4 Conv2D Layers + 2 Dense Layers"
   ]
  },
  {
   "cell_type": "code",
   "execution_count": 18,
   "metadata": {},
   "outputs": [],
   "source": [
    "def construct_model_1(\n",
    "    activation=\"relu\",\n",
    "    dropout_rate=0.3,\n",
    "    initializer=\"he_normal\",\n",
    "    units_l1=128,\n",
    "    units_l2=128,\n",
    "    units_l3=256,\n",
    "    units_l4=256,\n",
    "    units_l5=512,\n",
    "):\n",
    "    model = Sequential(name=\"CNN\")\n",
    "\n",
    "    model.add(\n",
    "        Conv2D(\n",
    "            units_l1,\n",
    "            3,\n",
    "            padding=\"same\",\n",
    "            activation=activation,\n",
    "            kernel_initializer=initializer,\n",
    "            input_shape=(input_shape[0], input_shape[1], input_shape[2]),\n",
    "            name=\"Conv_1\",\n",
    "        )\n",
    "    )\n",
    "    model.add(MaxPooling2D(pool_size=(2, 2), name=\"Pooling_1\"))\n",
    "\n",
    "    model.add(Conv2D(units_l2, 3, padding=\"same\", activation=activation, name=\"Conv_2\"))\n",
    "    model.add(MaxPooling2D(pool_size=(2, 2), name=\"Pooling_2\"))\n",
    "\n",
    "    model.add(BatchNormalization(name=\"BatchNorm_1\"))\n",
    "    model.add(Conv2D(units_l3, 3, padding=\"same\", activation=activation, name=\"Conv_3\"))\n",
    "    model.add(Dropout(dropout_rate, name=\"Dropout_1\"))\n",
    "\n",
    "    model.add(Conv2D(units_l4, 3, padding=\"same\", activation=activation, name=\"Conv_4\"))\n",
    "    model.add(MaxPooling2D(pool_size=(2, 2), name=\"Pooling_3\"))\n",
    "    model.add(Dropout(dropout_rate, name=\"Dropout_2\"))\n",
    "\n",
    "    model.add(Flatten())\n",
    "    model.add(BatchNormalization(name=\"BatchNorm_2\"))\n",
    "    model.add(Dense(units_l5, activation=activation, name=\"Dense_1\"))\n",
    "    model.add(Dropout(dropout_rate, name=\"Dropout_3\"))\n",
    "\n",
    "    model.add(Dense(number_classes, activation=\"softmax\", name=\"Dense_Output\"))\n",
    "\n",
    "    return model"
   ]
  },
  {
   "cell_type": "code",
   "execution_count": 19,
   "metadata": {},
   "outputs": [],
   "source": [
    "def compile_model_1(model, optimizer=Adam, learning_rate=0.001):\n",
    "    model.compile(\n",
    "        loss=\"categorical_crossentropy\",\n",
    "        optimizer=optimizer(learning_rate=learning_rate),\n",
    "        metrics=[\"accuracy\"],\n",
    "    )\n",
    "    return model"
   ]
  },
  {
   "cell_type": "code",
   "execution_count": 20,
   "metadata": {},
   "outputs": [
    {
     "name": "stdout",
     "output_type": "stream",
     "text": [
      "WARNING:tensorflow:From c:\\Users\\danie\\AppData\\Local\\Programs\\Python\\Python311\\Lib\\site-packages\\keras\\src\\backend.py:1398: The name tf.executing_eagerly_outside_functions is deprecated. Please use tf.compat.v1.executing_eagerly_outside_functions instead.\n",
      "\n",
      "WARNING:tensorflow:From c:\\Users\\danie\\AppData\\Local\\Programs\\Python\\Python311\\Lib\\site-packages\\keras\\src\\layers\\pooling\\max_pooling2d.py:161: The name tf.nn.max_pool is deprecated. Please use tf.nn.max_pool2d instead.\n",
      "\n",
      "Epoch 1/100\n",
      "WARNING:tensorflow:From c:\\Users\\danie\\AppData\\Local\\Programs\\Python\\Python311\\Lib\\site-packages\\keras\\src\\utils\\tf_utils.py:492: The name tf.ragged.RaggedTensorValue is deprecated. Please use tf.compat.v1.ragged.RaggedTensorValue instead.\n",
      "\n",
      "WARNING:tensorflow:From c:\\Users\\danie\\AppData\\Local\\Programs\\Python\\Python311\\Lib\\site-packages\\keras\\src\\engine\\base_layer_utils.py:384: The name tf.executing_eagerly_outside_functions is deprecated. Please use tf.compat.v1.executing_eagerly_outside_functions instead.\n",
      "\n",
      "782/782 [==============================] - ETA: 0s - loss: 1.9321 - accuracy: 0.3599\n",
      "Epoch 1: val_accuracy improved from -inf to 0.44100, saving model to cnn_86.keras\n",
      "782/782 [==============================] - 81s 101ms/step - loss: 1.9321 - accuracy: 0.3599 - val_loss: 1.7201 - val_accuracy: 0.4410 - lr: 0.0010\n",
      "Epoch 2/100\n",
      "782/782 [==============================] - ETA: 0s - loss: 1.4622 - accuracy: 0.4699\n",
      "Epoch 2: val_accuracy improved from 0.44100 to 0.53420, saving model to cnn_86.keras\n",
      "782/782 [==============================] - 78s 100ms/step - loss: 1.4622 - accuracy: 0.4699 - val_loss: 1.3598 - val_accuracy: 0.5342 - lr: 0.0010\n",
      "Epoch 3/100\n",
      "782/782 [==============================] - ETA: 0s - loss: 1.3300 - accuracy: 0.5243\n",
      "Epoch 3: val_accuracy improved from 0.53420 to 0.58960, saving model to cnn_86.keras\n",
      "782/782 [==============================] - 76s 97ms/step - loss: 1.3300 - accuracy: 0.5243 - val_loss: 1.1913 - val_accuracy: 0.5896 - lr: 0.0010\n",
      "Epoch 4/100\n",
      "782/782 [==============================] - ETA: 0s - loss: 1.2538 - accuracy: 0.5534\n",
      "Epoch 4: val_accuracy improved from 0.58960 to 0.64680, saving model to cnn_86.keras\n",
      "782/782 [==============================] - 76s 97ms/step - loss: 1.2538 - accuracy: 0.5534 - val_loss: 1.0430 - val_accuracy: 0.6468 - lr: 0.0010\n",
      "Epoch 5/100\n",
      "782/782 [==============================] - ETA: 0s - loss: 1.1972 - accuracy: 0.5763\n",
      "Epoch 5: val_accuracy did not improve from 0.64680\n",
      "782/782 [==============================] - 75s 96ms/step - loss: 1.1972 - accuracy: 0.5763 - val_loss: 1.1153 - val_accuracy: 0.6379 - lr: 0.0010\n",
      "Epoch 6/100\n",
      "782/782 [==============================] - ETA: 0s - loss: 1.1583 - accuracy: 0.5945\n",
      "Epoch 6: val_accuracy did not improve from 0.64680\n",
      "782/782 [==============================] - 76s 97ms/step - loss: 1.1583 - accuracy: 0.5945 - val_loss: 1.0625 - val_accuracy: 0.6456 - lr: 0.0010\n",
      "Epoch 7/100\n",
      "782/782 [==============================] - ETA: 0s - loss: 1.1231 - accuracy: 0.6053\n",
      "Epoch 7: val_accuracy improved from 0.64680 to 0.68230, saving model to cnn_86.keras\n",
      "782/782 [==============================] - 75s 96ms/step - loss: 1.1231 - accuracy: 0.6053 - val_loss: 0.9428 - val_accuracy: 0.6823 - lr: 0.0010\n",
      "Epoch 8/100\n",
      "782/782 [==============================] - ETA: 0s - loss: 1.0876 - accuracy: 0.6209\n",
      "Epoch 8: val_accuracy improved from 0.68230 to 0.71730, saving model to cnn_86.keras\n",
      "782/782 [==============================] - 75s 96ms/step - loss: 1.0876 - accuracy: 0.6209 - val_loss: 0.8231 - val_accuracy: 0.7173 - lr: 0.0010\n",
      "Epoch 9/100\n",
      "782/782 [==============================] - ETA: 0s - loss: 1.0710 - accuracy: 0.6262\n",
      "Epoch 9: val_accuracy did not improve from 0.71730\n",
      "782/782 [==============================] - 75s 96ms/step - loss: 1.0710 - accuracy: 0.6262 - val_loss: 0.9243 - val_accuracy: 0.6816 - lr: 0.0010\n",
      "Epoch 10/100\n",
      "782/782 [==============================] - ETA: 0s - loss: 1.0476 - accuracy: 0.6375\n",
      "Epoch 10: val_accuracy improved from 0.71730 to 0.73880, saving model to cnn_86.keras\n",
      "782/782 [==============================] - 76s 97ms/step - loss: 1.0476 - accuracy: 0.6375 - val_loss: 0.7607 - val_accuracy: 0.7388 - lr: 0.0010\n",
      "Epoch 11/100\n",
      "782/782 [==============================] - ETA: 0s - loss: 1.0288 - accuracy: 0.6430\n",
      "Epoch 11: val_accuracy did not improve from 0.73880\n",
      "782/782 [==============================] - 75s 96ms/step - loss: 1.0288 - accuracy: 0.6430 - val_loss: 0.8402 - val_accuracy: 0.7139 - lr: 0.0010\n",
      "Epoch 12/100\n",
      "782/782 [==============================] - ETA: 0s - loss: 0.9991 - accuracy: 0.6552\n",
      "Epoch 12: val_accuracy did not improve from 0.73880\n",
      "782/782 [==============================] - 75s 96ms/step - loss: 0.9991 - accuracy: 0.6552 - val_loss: 0.9140 - val_accuracy: 0.6965 - lr: 0.0010\n",
      "Epoch 13/100\n",
      "782/782 [==============================] - ETA: 0s - loss: 0.9840 - accuracy: 0.6610\n",
      "Epoch 13: val_accuracy did not improve from 0.73880\n",
      "782/782 [==============================] - 75s 96ms/step - loss: 0.9840 - accuracy: 0.6610 - val_loss: 0.9071 - val_accuracy: 0.6925 - lr: 0.0010\n",
      "Epoch 14/100\n",
      "782/782 [==============================] - ETA: 0s - loss: 0.9672 - accuracy: 0.6671\n",
      "Epoch 14: val_accuracy did not improve from 0.73880\n",
      "782/782 [==============================] - 75s 96ms/step - loss: 0.9672 - accuracy: 0.6671 - val_loss: 0.8442 - val_accuracy: 0.7190 - lr: 0.0010\n",
      "Epoch 15/100\n",
      "782/782 [==============================] - ETA: 0s - loss: 0.9599 - accuracy: 0.6687\n",
      "Epoch 15: val_accuracy did not improve from 0.73880\n",
      "\n",
      "Epoch 15: ReduceLROnPlateau reducing learning rate to 0.00020000000949949026.\n",
      "782/782 [==============================] - 75s 96ms/step - loss: 0.9599 - accuracy: 0.6687 - val_loss: 0.9291 - val_accuracy: 0.6943 - lr: 0.0010\n",
      "Epoch 16/100\n",
      "782/782 [==============================] - ETA: 0s - loss: 0.8711 - accuracy: 0.7008\n",
      "Epoch 16: val_accuracy improved from 0.73880 to 0.75460, saving model to cnn_86.keras\n",
      "782/782 [==============================] - 76s 97ms/step - loss: 0.8711 - accuracy: 0.7008 - val_loss: 0.7181 - val_accuracy: 0.7546 - lr: 2.0000e-04\n",
      "Epoch 17/100\n",
      "782/782 [==============================] - ETA: 0s - loss: 0.8311 - accuracy: 0.7134\n",
      "Epoch 17: val_accuracy improved from 0.75460 to 0.76790, saving model to cnn_86.keras\n",
      "782/782 [==============================] - 76s 97ms/step - loss: 0.8311 - accuracy: 0.7134 - val_loss: 0.6903 - val_accuracy: 0.7679 - lr: 2.0000e-04\n",
      "Epoch 18/100\n",
      "782/782 [==============================] - ETA: 0s - loss: 0.8118 - accuracy: 0.7194\n",
      "Epoch 18: val_accuracy improved from 0.76790 to 0.77810, saving model to cnn_86.keras\n",
      "782/782 [==============================] - 75s 96ms/step - loss: 0.8118 - accuracy: 0.7194 - val_loss: 0.6468 - val_accuracy: 0.7781 - lr: 2.0000e-04\n",
      "Epoch 19/100\n",
      "782/782 [==============================] - ETA: 0s - loss: 0.8050 - accuracy: 0.7224\n",
      "Epoch 19: val_accuracy improved from 0.77810 to 0.78380, saving model to cnn_86.keras\n",
      "782/782 [==============================] - 75s 96ms/step - loss: 0.8050 - accuracy: 0.7224 - val_loss: 0.6437 - val_accuracy: 0.7838 - lr: 2.0000e-04\n",
      "Epoch 20/100\n",
      "782/782 [==============================] - ETA: 0s - loss: 0.7930 - accuracy: 0.7242\n",
      "Epoch 20: val_accuracy did not improve from 0.78380\n",
      "782/782 [==============================] - 78s 99ms/step - loss: 0.7930 - accuracy: 0.7242 - val_loss: 0.6387 - val_accuracy: 0.7827 - lr: 2.0000e-04\n",
      "Epoch 21/100\n",
      "782/782 [==============================] - ETA: 0s - loss: 0.7708 - accuracy: 0.7346\n",
      "Epoch 21: val_accuracy did not improve from 0.78380\n",
      "782/782 [==============================] - 80s 102ms/step - loss: 0.7708 - accuracy: 0.7346 - val_loss: 0.6667 - val_accuracy: 0.7708 - lr: 2.0000e-04\n",
      "Epoch 22/100\n",
      "782/782 [==============================] - ETA: 0s - loss: 0.7700 - accuracy: 0.7350\n",
      "Epoch 22: val_accuracy improved from 0.78380 to 0.79340, saving model to cnn_86.keras\n",
      "782/782 [==============================] - 80s 103ms/step - loss: 0.7700 - accuracy: 0.7350 - val_loss: 0.6087 - val_accuracy: 0.7934 - lr: 2.0000e-04\n",
      "Epoch 23/100\n",
      "782/782 [==============================] - ETA: 0s - loss: 0.7596 - accuracy: 0.7373\n",
      "Epoch 23: val_accuracy did not improve from 0.79340\n",
      "782/782 [==============================] - 79s 102ms/step - loss: 0.7596 - accuracy: 0.7373 - val_loss: 0.6723 - val_accuracy: 0.7713 - lr: 2.0000e-04\n",
      "Epoch 24/100\n",
      "782/782 [==============================] - ETA: 0s - loss: 0.7521 - accuracy: 0.7384\n",
      "Epoch 24: val_accuracy did not improve from 0.79340\n",
      "782/782 [==============================] - 76s 97ms/step - loss: 0.7521 - accuracy: 0.7384 - val_loss: 0.6404 - val_accuracy: 0.7870 - lr: 2.0000e-04\n",
      "Epoch 25/100\n",
      "782/782 [==============================] - ETA: 0s - loss: 0.7448 - accuracy: 0.7416\n",
      "Epoch 25: val_accuracy did not improve from 0.79340\n",
      "782/782 [==============================] - 78s 99ms/step - loss: 0.7448 - accuracy: 0.7416 - val_loss: 0.6048 - val_accuracy: 0.7930 - lr: 2.0000e-04\n",
      "Epoch 26/100\n",
      "782/782 [==============================] - ETA: 0s - loss: 0.7455 - accuracy: 0.7432\n",
      "Epoch 26: val_accuracy improved from 0.79340 to 0.80200, saving model to cnn_86.keras\n",
      "782/782 [==============================] - 78s 100ms/step - loss: 0.7455 - accuracy: 0.7432 - val_loss: 0.5819 - val_accuracy: 0.8020 - lr: 2.0000e-04\n",
      "Epoch 27/100\n",
      "782/782 [==============================] - ETA: 0s - loss: 0.7252 - accuracy: 0.7477\n",
      "Epoch 27: val_accuracy did not improve from 0.80200\n",
      "782/782 [==============================] - 77s 98ms/step - loss: 0.7252 - accuracy: 0.7477 - val_loss: 0.6352 - val_accuracy: 0.7925 - lr: 2.0000e-04\n",
      "Epoch 28/100\n",
      "782/782 [==============================] - ETA: 0s - loss: 0.7241 - accuracy: 0.7484\n",
      "Epoch 28: val_accuracy improved from 0.80200 to 0.80870, saving model to cnn_86.keras\n",
      "782/782 [==============================] - 77s 98ms/step - loss: 0.7241 - accuracy: 0.7484 - val_loss: 0.5585 - val_accuracy: 0.8087 - lr: 2.0000e-04\n",
      "Epoch 29/100\n",
      "782/782 [==============================] - ETA: 0s - loss: 0.7206 - accuracy: 0.7521\n",
      "Epoch 29: val_accuracy improved from 0.80870 to 0.80900, saving model to cnn_86.keras\n",
      "782/782 [==============================] - 76s 97ms/step - loss: 0.7206 - accuracy: 0.7521 - val_loss: 0.5703 - val_accuracy: 0.8090 - lr: 2.0000e-04\n",
      "Epoch 30/100\n",
      "782/782 [==============================] - ETA: 0s - loss: 0.7110 - accuracy: 0.7534\n",
      "Epoch 30: val_accuracy did not improve from 0.80900\n",
      "782/782 [==============================] - 75s 96ms/step - loss: 0.7110 - accuracy: 0.7534 - val_loss: 0.6073 - val_accuracy: 0.7958 - lr: 2.0000e-04\n",
      "Epoch 31/100\n",
      "782/782 [==============================] - ETA: 0s - loss: 0.7063 - accuracy: 0.7549\n",
      "Epoch 31: val_accuracy did not improve from 0.80900\n",
      "782/782 [==============================] - 75s 96ms/step - loss: 0.7063 - accuracy: 0.7549 - val_loss: 0.5634 - val_accuracy: 0.8072 - lr: 2.0000e-04\n",
      "Epoch 32/100\n",
      "782/782 [==============================] - ETA: 0s - loss: 0.7069 - accuracy: 0.7555\n",
      "Epoch 32: val_accuracy improved from 0.80900 to 0.81070, saving model to cnn_86.keras\n",
      "782/782 [==============================] - 75s 96ms/step - loss: 0.7069 - accuracy: 0.7555 - val_loss: 0.5649 - val_accuracy: 0.8107 - lr: 2.0000e-04\n",
      "Epoch 33/100\n",
      "782/782 [==============================] - ETA: 0s - loss: 0.7008 - accuracy: 0.7578\n",
      "Epoch 33: val_accuracy did not improve from 0.81070\n",
      "\n",
      "Epoch 33: ReduceLROnPlateau reducing learning rate to 4.0000001899898055e-05.\n",
      "782/782 [==============================] - 78s 100ms/step - loss: 0.7008 - accuracy: 0.7578 - val_loss: 0.5936 - val_accuracy: 0.7994 - lr: 2.0000e-04\n",
      "Epoch 34/100\n",
      "782/782 [==============================] - ETA: 0s - loss: 0.6852 - accuracy: 0.7638\n",
      "Epoch 34: val_accuracy improved from 0.81070 to 0.81400, saving model to cnn_86.keras\n",
      "782/782 [==============================] - 91s 116ms/step - loss: 0.6852 - accuracy: 0.7638 - val_loss: 0.5528 - val_accuracy: 0.8140 - lr: 4.0000e-05\n",
      "Epoch 35/100\n",
      "782/782 [==============================] - ETA: 0s - loss: 0.6727 - accuracy: 0.7671\n",
      "Epoch 35: val_accuracy did not improve from 0.81400\n",
      "782/782 [==============================] - 100s 127ms/step - loss: 0.6727 - accuracy: 0.7671 - val_loss: 0.5475 - val_accuracy: 0.8139 - lr: 4.0000e-05\n",
      "Epoch 36/100\n",
      "782/782 [==============================] - ETA: 0s - loss: 0.6784 - accuracy: 0.7653\n",
      "Epoch 36: val_accuracy did not improve from 0.81400\n",
      "782/782 [==============================] - 95s 122ms/step - loss: 0.6784 - accuracy: 0.7653 - val_loss: 0.5582 - val_accuracy: 0.8086 - lr: 4.0000e-05\n",
      "Epoch 37/100\n",
      "782/782 [==============================] - ETA: 0s - loss: 0.6704 - accuracy: 0.7676\n",
      "Epoch 37: val_accuracy did not improve from 0.81400\n",
      "782/782 [==============================] - 98s 126ms/step - loss: 0.6704 - accuracy: 0.7676 - val_loss: 0.5539 - val_accuracy: 0.8130 - lr: 4.0000e-05\n",
      "Epoch 38/100\n",
      "782/782 [==============================] - ETA: 0s - loss: 0.6687 - accuracy: 0.7671\n",
      "Epoch 38: val_accuracy improved from 0.81400 to 0.81450, saving model to cnn_86.keras\n",
      "782/782 [==============================] - 107s 137ms/step - loss: 0.6687 - accuracy: 0.7671 - val_loss: 0.5472 - val_accuracy: 0.8145 - lr: 4.0000e-05\n",
      "Epoch 39/100\n",
      "782/782 [==============================] - ETA: 0s - loss: 0.6632 - accuracy: 0.7704\n",
      "Epoch 39: val_accuracy did not improve from 0.81450\n",
      "782/782 [==============================] - 104s 133ms/step - loss: 0.6632 - accuracy: 0.7704 - val_loss: 0.5516 - val_accuracy: 0.8140 - lr: 4.0000e-05\n",
      "Epoch 40/100\n",
      "782/782 [==============================] - ETA: 0s - loss: 0.6644 - accuracy: 0.7693\n",
      "Epoch 40: val_accuracy improved from 0.81450 to 0.81490, saving model to cnn_86.keras\n",
      "782/782 [==============================] - 107s 137ms/step - loss: 0.6644 - accuracy: 0.7693 - val_loss: 0.5462 - val_accuracy: 0.8149 - lr: 4.0000e-05\n",
      "Epoch 41/100\n",
      "782/782 [==============================] - ETA: 0s - loss: 0.6626 - accuracy: 0.7713\n",
      "Epoch 41: val_accuracy did not improve from 0.81490\n",
      "782/782 [==============================] - 105s 134ms/step - loss: 0.6626 - accuracy: 0.7713 - val_loss: 0.5536 - val_accuracy: 0.8124 - lr: 4.0000e-05\n",
      "Epoch 42/100\n",
      "782/782 [==============================] - ETA: 0s - loss: 0.6654 - accuracy: 0.7711\n",
      "Epoch 42: val_accuracy improved from 0.81490 to 0.81750, saving model to cnn_86.keras\n",
      "782/782 [==============================] - 112s 143ms/step - loss: 0.6654 - accuracy: 0.7711 - val_loss: 0.5380 - val_accuracy: 0.8175 - lr: 4.0000e-05\n",
      "Epoch 43/100\n",
      "782/782 [==============================] - ETA: 0s - loss: 0.6590 - accuracy: 0.7733\n",
      "Epoch 43: val_accuracy improved from 0.81750 to 0.82040, saving model to cnn_86.keras\n",
      "782/782 [==============================] - 115s 146ms/step - loss: 0.6590 - accuracy: 0.7733 - val_loss: 0.5340 - val_accuracy: 0.8204 - lr: 4.0000e-05\n",
      "Epoch 44/100\n",
      "782/782 [==============================] - ETA: 0s - loss: 0.6591 - accuracy: 0.7699\n",
      "Epoch 44: val_accuracy did not improve from 0.82040\n",
      "782/782 [==============================] - 103s 131ms/step - loss: 0.6591 - accuracy: 0.7699 - val_loss: 0.5412 - val_accuracy: 0.8182 - lr: 4.0000e-05\n",
      "Epoch 45/100\n",
      "782/782 [==============================] - ETA: 0s - loss: 0.6612 - accuracy: 0.7710\n",
      "Epoch 45: val_accuracy did not improve from 0.82040\n",
      "782/782 [==============================] - 98s 126ms/step - loss: 0.6612 - accuracy: 0.7710 - val_loss: 0.5341 - val_accuracy: 0.8195 - lr: 4.0000e-05\n",
      "Epoch 46/100\n",
      "782/782 [==============================] - ETA: 0s - loss: 0.6527 - accuracy: 0.7741\n",
      "Epoch 46: val_accuracy did not improve from 0.82040\n",
      "782/782 [==============================] - 94s 121ms/step - loss: 0.6527 - accuracy: 0.7741 - val_loss: 0.5349 - val_accuracy: 0.8180 - lr: 4.0000e-05\n",
      "Epoch 47/100\n",
      "782/782 [==============================] - ETA: 0s - loss: 0.6550 - accuracy: 0.7738\n",
      "Epoch 47: val_accuracy improved from 0.82040 to 0.82170, saving model to cnn_86.keras\n",
      "782/782 [==============================] - 113s 145ms/step - loss: 0.6550 - accuracy: 0.7738 - val_loss: 0.5330 - val_accuracy: 0.8217 - lr: 4.0000e-05\n",
      "Epoch 48/100\n",
      "782/782 [==============================] - ETA: 0s - loss: 0.6511 - accuracy: 0.7729\n",
      "Epoch 48: val_accuracy did not improve from 0.82170\n",
      "782/782 [==============================] - 113s 144ms/step - loss: 0.6511 - accuracy: 0.7729 - val_loss: 0.5519 - val_accuracy: 0.8137 - lr: 4.0000e-05\n",
      "Epoch 49/100\n",
      "782/782 [==============================] - ETA: 0s - loss: 0.6522 - accuracy: 0.7755\n",
      "Epoch 49: val_accuracy did not improve from 0.82170\n",
      "782/782 [==============================] - 101s 129ms/step - loss: 0.6522 - accuracy: 0.7755 - val_loss: 0.5376 - val_accuracy: 0.8184 - lr: 4.0000e-05\n",
      "Epoch 50/100\n",
      "782/782 [==============================] - ETA: 0s - loss: 0.6506 - accuracy: 0.7725\n",
      "Epoch 50: val_accuracy did not improve from 0.82170\n",
      "782/782 [==============================] - 102s 130ms/step - loss: 0.6506 - accuracy: 0.7725 - val_loss: 0.5304 - val_accuracy: 0.8197 - lr: 4.0000e-05\n",
      "Epoch 51/100\n",
      "782/782 [==============================] - ETA: 0s - loss: 0.6490 - accuracy: 0.7770\n",
      "Epoch 51: val_accuracy did not improve from 0.82170\n",
      "782/782 [==============================] - 101s 128ms/step - loss: 0.6490 - accuracy: 0.7770 - val_loss: 0.5463 - val_accuracy: 0.8144 - lr: 4.0000e-05\n",
      "Epoch 52/100\n",
      "782/782 [==============================] - ETA: 0s - loss: 0.6447 - accuracy: 0.7764\n",
      "Epoch 52: val_accuracy did not improve from 0.82170\n",
      "782/782 [==============================] - 84s 108ms/step - loss: 0.6447 - accuracy: 0.7764 - val_loss: 0.5385 - val_accuracy: 0.8173 - lr: 4.0000e-05\n",
      "Epoch 53/100\n",
      "782/782 [==============================] - ETA: 0s - loss: 0.6498 - accuracy: 0.7753\n",
      "Epoch 53: val_accuracy improved from 0.82170 to 0.82260, saving model to cnn_86.keras\n",
      "782/782 [==============================] - 83s 107ms/step - loss: 0.6498 - accuracy: 0.7753 - val_loss: 0.5283 - val_accuracy: 0.8226 - lr: 4.0000e-05\n",
      "Epoch 54/100\n",
      "782/782 [==============================] - ETA: 0s - loss: 0.6445 - accuracy: 0.7780\n",
      "Epoch 54: val_accuracy did not improve from 0.82260\n",
      "782/782 [==============================] - 82s 104ms/step - loss: 0.6445 - accuracy: 0.7780 - val_loss: 0.5230 - val_accuracy: 0.8226 - lr: 4.0000e-05\n",
      "Epoch 55/100\n",
      "782/782 [==============================] - ETA: 0s - loss: 0.6452 - accuracy: 0.7787\n",
      "Epoch 55: val_accuracy did not improve from 0.82260\n",
      "782/782 [==============================] - 87s 111ms/step - loss: 0.6452 - accuracy: 0.7787 - val_loss: 0.5381 - val_accuracy: 0.8179 - lr: 4.0000e-05\n",
      "Epoch 56/100\n",
      "782/782 [==============================] - ETA: 0s - loss: 0.6424 - accuracy: 0.7788\n",
      "Epoch 56: val_accuracy did not improve from 0.82260\n",
      "782/782 [==============================] - 90s 115ms/step - loss: 0.6424 - accuracy: 0.7788 - val_loss: 0.5265 - val_accuracy: 0.8217 - lr: 4.0000e-05\n",
      "Epoch 57/100\n",
      "782/782 [==============================] - ETA: 0s - loss: 0.6341 - accuracy: 0.7797\n",
      "Epoch 57: val_accuracy improved from 0.82260 to 0.82400, saving model to cnn_86.keras\n",
      "782/782 [==============================] - 85s 108ms/step - loss: 0.6341 - accuracy: 0.7797 - val_loss: 0.5287 - val_accuracy: 0.8240 - lr: 4.0000e-05\n",
      "Epoch 58/100\n",
      "782/782 [==============================] - ETA: 0s - loss: 0.6431 - accuracy: 0.7765\n",
      "Epoch 58: val_accuracy did not improve from 0.82400\n",
      "782/782 [==============================] - 81s 104ms/step - loss: 0.6431 - accuracy: 0.7765 - val_loss: 0.5275 - val_accuracy: 0.8205 - lr: 4.0000e-05\n",
      "Epoch 59/100\n",
      "782/782 [==============================] - ETA: 0s - loss: 0.6390 - accuracy: 0.7803\n",
      "Epoch 59: val_accuracy did not improve from 0.82400\n",
      "\n",
      "Epoch 59: ReduceLROnPlateau reducing learning rate to 8.000000525498762e-06.\n",
      "782/782 [==============================] - 80s 103ms/step - loss: 0.6390 - accuracy: 0.7803 - val_loss: 0.5366 - val_accuracy: 0.8205 - lr: 4.0000e-05\n",
      "Epoch 60/100\n",
      "782/782 [==============================] - ETA: 0s - loss: 0.6319 - accuracy: 0.7801\n",
      "Epoch 60: val_accuracy did not improve from 0.82400\n",
      "782/782 [==============================] - 78s 100ms/step - loss: 0.6319 - accuracy: 0.7801 - val_loss: 0.5260 - val_accuracy: 0.8215 - lr: 8.0000e-06\n",
      "Epoch 61/100\n",
      "782/782 [==============================] - ETA: 0s - loss: 0.6380 - accuracy: 0.7790\n",
      "Epoch 61: val_accuracy did not improve from 0.82400\n",
      "782/782 [==============================] - 77s 99ms/step - loss: 0.6380 - accuracy: 0.7790 - val_loss: 0.5232 - val_accuracy: 0.8225 - lr: 8.0000e-06\n",
      "Epoch 62/100\n",
      "782/782 [==============================] - ETA: 0s - loss: 0.6341 - accuracy: 0.7801\n",
      "Epoch 62: val_accuracy did not improve from 0.82400\n",
      "782/782 [==============================] - 77s 98ms/step - loss: 0.6341 - accuracy: 0.7801 - val_loss: 0.5221 - val_accuracy: 0.8233 - lr: 8.0000e-06\n",
      "Epoch 63/100\n",
      "782/782 [==============================] - ETA: 0s - loss: 0.6325 - accuracy: 0.7820\n",
      "Epoch 63: val_accuracy did not improve from 0.82400\n",
      "782/782 [==============================] - 77s 99ms/step - loss: 0.6325 - accuracy: 0.7820 - val_loss: 0.5261 - val_accuracy: 0.8222 - lr: 8.0000e-06\n",
      "Epoch 64/100\n",
      "782/782 [==============================] - ETA: 0s - loss: 0.6275 - accuracy: 0.7818\n",
      "Epoch 64: val_accuracy did not improve from 0.82400\n",
      "782/782 [==============================] - 77s 99ms/step - loss: 0.6275 - accuracy: 0.7818 - val_loss: 0.5246 - val_accuracy: 0.8223 - lr: 8.0000e-06\n",
      "Epoch 65/100\n",
      "782/782 [==============================] - ETA: 0s - loss: 0.6324 - accuracy: 0.7809\n",
      "Epoch 65: val_accuracy did not improve from 0.82400\n",
      "782/782 [==============================] - 80s 102ms/step - loss: 0.6324 - accuracy: 0.7809 - val_loss: 0.5248 - val_accuracy: 0.8234 - lr: 8.0000e-06\n",
      "Epoch 66/100\n",
      "782/782 [==============================] - ETA: 0s - loss: 0.6378 - accuracy: 0.7785\n",
      "Epoch 66: val_accuracy did not improve from 0.82400\n",
      "782/782 [==============================] - 78s 99ms/step - loss: 0.6378 - accuracy: 0.7785 - val_loss: 0.5242 - val_accuracy: 0.8232 - lr: 8.0000e-06\n",
      "Epoch 67/100\n",
      "782/782 [==============================] - ETA: 0s - loss: 0.6339 - accuracy: 0.7806\n",
      "Epoch 67: val_accuracy did not improve from 0.82400\n",
      "\n",
      "Epoch 67: ReduceLROnPlateau reducing learning rate to 1.6000001778593287e-06.\n",
      "782/782 [==============================] - 78s 100ms/step - loss: 0.6339 - accuracy: 0.7806 - val_loss: 0.5245 - val_accuracy: 0.8224 - lr: 8.0000e-06\n",
      "Epoch 68/100\n",
      "782/782 [==============================] - ETA: 0s - loss: 0.6305 - accuracy: 0.7794\n",
      "Epoch 68: val_accuracy did not improve from 0.82400\n",
      "782/782 [==============================] - 79s 100ms/step - loss: 0.6305 - accuracy: 0.7794 - val_loss: 0.5228 - val_accuracy: 0.8236 - lr: 1.6000e-06\n",
      "Epoch 69/100\n",
      "782/782 [==============================] - ETA: 0s - loss: 0.6293 - accuracy: 0.7826\n",
      "Epoch 69: val_accuracy did not improve from 0.82400\n",
      "782/782 [==============================] - 77s 99ms/step - loss: 0.6293 - accuracy: 0.7826 - val_loss: 0.5227 - val_accuracy: 0.8230 - lr: 1.6000e-06\n",
      "Epoch 70/100\n",
      "782/782 [==============================] - ETA: 0s - loss: 0.6340 - accuracy: 0.7799\n",
      "Epoch 70: val_accuracy did not improve from 0.82400\n",
      "782/782 [==============================] - 76s 97ms/step - loss: 0.6340 - accuracy: 0.7799 - val_loss: 0.5229 - val_accuracy: 0.8226 - lr: 1.6000e-06\n",
      "Epoch 71/100\n",
      "782/782 [==============================] - ETA: 0s - loss: 0.6298 - accuracy: 0.7818\n",
      "Epoch 71: val_accuracy improved from 0.82400 to 0.82430, saving model to cnn_86.keras\n",
      "782/782 [==============================] - 76s 97ms/step - loss: 0.6298 - accuracy: 0.7818 - val_loss: 0.5229 - val_accuracy: 0.8243 - lr: 1.6000e-06\n",
      "Epoch 72/100\n",
      "782/782 [==============================] - ETA: 0s - loss: 0.6332 - accuracy: 0.7801\n",
      "Epoch 72: val_accuracy did not improve from 0.82430\n",
      "\n",
      "Epoch 72: ReduceLROnPlateau reducing learning rate to 1e-06.\n",
      "782/782 [==============================] - 77s 98ms/step - loss: 0.6332 - accuracy: 0.7801 - val_loss: 0.5258 - val_accuracy: 0.8226 - lr: 1.6000e-06\n",
      "Epoch 73/100\n",
      "782/782 [==============================] - ETA: 0s - loss: 0.6302 - accuracy: 0.7813\n",
      "Epoch 73: val_accuracy did not improve from 0.82430\n",
      "782/782 [==============================] - 77s 98ms/step - loss: 0.6302 - accuracy: 0.7813 - val_loss: 0.5242 - val_accuracy: 0.8233 - lr: 1.0000e-06\n",
      "Epoch 74/100\n",
      "782/782 [==============================] - ETA: 0s - loss: 0.6273 - accuracy: 0.7818\n",
      "Epoch 74: val_accuracy did not improve from 0.82430\n",
      "782/782 [==============================] - 77s 99ms/step - loss: 0.6273 - accuracy: 0.7818 - val_loss: 0.5224 - val_accuracy: 0.8230 - lr: 1.0000e-06\n",
      "Epoch 75/100\n",
      "782/782 [==============================] - ETA: 0s - loss: 0.6277 - accuracy: 0.7825\n",
      "Epoch 75: val_accuracy did not improve from 0.82430\n",
      "782/782 [==============================] - 85s 108ms/step - loss: 0.6277 - accuracy: 0.7825 - val_loss: 0.5243 - val_accuracy: 0.8227 - lr: 1.0000e-06\n",
      "Epoch 76/100\n",
      "782/782 [==============================] - ETA: 0s - loss: 0.6294 - accuracy: 0.7817\n",
      "Epoch 76: val_accuracy did not improve from 0.82430\n",
      "782/782 [==============================] - 83s 106ms/step - loss: 0.6294 - accuracy: 0.7817 - val_loss: 0.5212 - val_accuracy: 0.8242 - lr: 1.0000e-06\n",
      "Epoch 77/100\n",
      "782/782 [==============================] - ETA: 0s - loss: 0.6387 - accuracy: 0.7770\n",
      "Epoch 77: val_accuracy did not improve from 0.82430\n",
      "782/782 [==============================] - 79s 101ms/step - loss: 0.6387 - accuracy: 0.7770 - val_loss: 0.5226 - val_accuracy: 0.8232 - lr: 1.0000e-06\n",
      "Epoch 78/100\n",
      "782/782 [==============================] - ETA: 0s - loss: 0.6318 - accuracy: 0.7796\n",
      "Epoch 78: val_accuracy did not improve from 0.82430\n",
      "782/782 [==============================] - 79s 102ms/step - loss: 0.6318 - accuracy: 0.7796 - val_loss: 0.5231 - val_accuracy: 0.8226 - lr: 1.0000e-06\n",
      "Epoch 79/100\n",
      "782/782 [==============================] - ETA: 0s - loss: 0.6315 - accuracy: 0.7804\n",
      "Epoch 79: val_accuracy did not improve from 0.82430\n",
      "782/782 [==============================] - 78s 99ms/step - loss: 0.6315 - accuracy: 0.7804 - val_loss: 0.5236 - val_accuracy: 0.8237 - lr: 1.0000e-06\n",
      "Epoch 80/100\n",
      "782/782 [==============================] - ETA: 0s - loss: 0.6365 - accuracy: 0.7781\n",
      "Epoch 80: val_accuracy did not improve from 0.82430\n",
      "782/782 [==============================] - 79s 100ms/step - loss: 0.6365 - accuracy: 0.7781 - val_loss: 0.5241 - val_accuracy: 0.8234 - lr: 1.0000e-06\n",
      "Epoch 81/100\n",
      "782/782 [==============================] - ETA: 0s - loss: 0.6318 - accuracy: 0.7794\n",
      "Epoch 81: val_accuracy did not improve from 0.82430\n",
      "782/782 [==============================] - 79s 101ms/step - loss: 0.6318 - accuracy: 0.7794 - val_loss: 0.5233 - val_accuracy: 0.8234 - lr: 1.0000e-06\n",
      "Epoch 82/100\n",
      "782/782 [==============================] - ETA: 0s - loss: 0.6295 - accuracy: 0.7807\n",
      "Epoch 82: val_accuracy did not improve from 0.82430\n",
      "782/782 [==============================] - 79s 101ms/step - loss: 0.6295 - accuracy: 0.7807 - val_loss: 0.5225 - val_accuracy: 0.8238 - lr: 1.0000e-06\n",
      "Epoch 83/100\n",
      "782/782 [==============================] - ETA: 0s - loss: 0.6224 - accuracy: 0.7856\n",
      "Epoch 83: val_accuracy did not improve from 0.82430\n",
      "782/782 [==============================] - 80s 102ms/step - loss: 0.6224 - accuracy: 0.7856 - val_loss: 0.5228 - val_accuracy: 0.8229 - lr: 1.0000e-06\n",
      "Epoch 84/100\n",
      "782/782 [==============================] - ETA: 0s - loss: 0.6333 - accuracy: 0.7817\n",
      "Epoch 84: val_accuracy did not improve from 0.82430\n",
      "782/782 [==============================] - 80s 102ms/step - loss: 0.6333 - accuracy: 0.7817 - val_loss: 0.5246 - val_accuracy: 0.8227 - lr: 1.0000e-06\n",
      "Epoch 85/100\n",
      "782/782 [==============================] - ETA: 0s - loss: 0.6292 - accuracy: 0.7817\n",
      "Epoch 85: val_accuracy improved from 0.82430 to 0.82470, saving model to cnn_86.keras\n",
      "782/782 [==============================] - 79s 101ms/step - loss: 0.6292 - accuracy: 0.7817 - val_loss: 0.5209 - val_accuracy: 0.8247 - lr: 1.0000e-06\n",
      "Epoch 86/100\n",
      "782/782 [==============================] - ETA: 0s - loss: 0.6289 - accuracy: 0.7802\n",
      "Epoch 86: val_accuracy did not improve from 0.82470\n",
      "782/782 [==============================] - 79s 101ms/step - loss: 0.6289 - accuracy: 0.7802 - val_loss: 0.5229 - val_accuracy: 0.8239 - lr: 1.0000e-06\n",
      "Epoch 87/100\n",
      "782/782 [==============================] - ETA: 0s - loss: 0.6321 - accuracy: 0.7815\n",
      "Epoch 87: val_accuracy did not improve from 0.82470\n",
      "782/782 [==============================] - 78s 100ms/step - loss: 0.6321 - accuracy: 0.7815 - val_loss: 0.5234 - val_accuracy: 0.8234 - lr: 1.0000e-06\n",
      "Epoch 88/100\n",
      "782/782 [==============================] - ETA: 0s - loss: 0.6347 - accuracy: 0.7831\n",
      "Epoch 88: val_accuracy did not improve from 0.82470\n",
      "782/782 [==============================] - 78s 100ms/step - loss: 0.6347 - accuracy: 0.7831 - val_loss: 0.5235 - val_accuracy: 0.8223 - lr: 1.0000e-06\n",
      "Epoch 89/100\n",
      "782/782 [==============================] - ETA: 0s - loss: 0.6297 - accuracy: 0.7828\n",
      "Epoch 89: val_accuracy did not improve from 0.82470\n",
      "782/782 [==============================] - 79s 101ms/step - loss: 0.6297 - accuracy: 0.7828 - val_loss: 0.5222 - val_accuracy: 0.8232 - lr: 1.0000e-06\n",
      "Epoch 90/100\n",
      "782/782 [==============================] - ETA: 0s - loss: 0.6361 - accuracy: 0.7798\n",
      "Epoch 90: val_accuracy did not improve from 0.82470\n",
      "782/782 [==============================] - 78s 100ms/step - loss: 0.6361 - accuracy: 0.7798 - val_loss: 0.5216 - val_accuracy: 0.8239 - lr: 1.0000e-06\n",
      "Epoch 91/100\n",
      "782/782 [==============================] - ETA: 0s - loss: 0.6280 - accuracy: 0.7824\n",
      "Epoch 91: val_accuracy did not improve from 0.82470\n",
      "782/782 [==============================] - 80s 102ms/step - loss: 0.6280 - accuracy: 0.7824 - val_loss: 0.5220 - val_accuracy: 0.8228 - lr: 1.0000e-06\n",
      "Epoch 92/100\n",
      "782/782 [==============================] - ETA: 0s - loss: 0.6325 - accuracy: 0.7816\n",
      "Epoch 92: val_accuracy did not improve from 0.82470\n",
      "782/782 [==============================] - 79s 101ms/step - loss: 0.6325 - accuracy: 0.7816 - val_loss: 0.5232 - val_accuracy: 0.8229 - lr: 1.0000e-06\n",
      "Epoch 93/100\n",
      "782/782 [==============================] - ETA: 0s - loss: 0.6334 - accuracy: 0.7811\n",
      "Epoch 93: val_accuracy did not improve from 0.82470\n",
      "782/782 [==============================] - 79s 101ms/step - loss: 0.6334 - accuracy: 0.7811 - val_loss: 0.5217 - val_accuracy: 0.8234 - lr: 1.0000e-06\n",
      "Epoch 94/100\n",
      "782/782 [==============================] - ETA: 0s - loss: 0.6267 - accuracy: 0.7812\n",
      "Epoch 94: val_accuracy did not improve from 0.82470\n",
      "782/782 [==============================] - 80s 103ms/step - loss: 0.6267 - accuracy: 0.7812 - val_loss: 0.5232 - val_accuracy: 0.8241 - lr: 1.0000e-06\n",
      "Epoch 95/100\n",
      "782/782 [==============================] - ETA: 0s - loss: 0.6276 - accuracy: 0.7831\n",
      "Epoch 95: val_accuracy did not improve from 0.82470\n",
      "782/782 [==============================] - 79s 101ms/step - loss: 0.6276 - accuracy: 0.7831 - val_loss: 0.5231 - val_accuracy: 0.8241 - lr: 1.0000e-06\n",
      "Epoch 96/100\n",
      "782/782 [==============================] - ETA: 0s - loss: 0.6248 - accuracy: 0.7847\n",
      "Epoch 96: val_accuracy did not improve from 0.82470\n",
      "782/782 [==============================] - 79s 101ms/step - loss: 0.6248 - accuracy: 0.7847 - val_loss: 0.5245 - val_accuracy: 0.8231 - lr: 1.0000e-06\n",
      "Epoch 97/100\n",
      "782/782 [==============================] - ETA: 0s - loss: 0.6266 - accuracy: 0.7818\n",
      "Epoch 97: val_accuracy did not improve from 0.82470\n",
      "782/782 [==============================] - 79s 101ms/step - loss: 0.6266 - accuracy: 0.7818 - val_loss: 0.5223 - val_accuracy: 0.8242 - lr: 1.0000e-06\n",
      "Epoch 98/100\n",
      "782/782 [==============================] - ETA: 0s - loss: 0.6275 - accuracy: 0.7818\n",
      "Epoch 98: val_accuracy did not improve from 0.82470\n",
      "782/782 [==============================] - 78s 100ms/step - loss: 0.6275 - accuracy: 0.7818 - val_loss: 0.5198 - val_accuracy: 0.8244 - lr: 1.0000e-06\n",
      "Epoch 99/100\n",
      "782/782 [==============================] - ETA: 0s - loss: 0.6279 - accuracy: 0.7833\n",
      "Epoch 99: val_accuracy did not improve from 0.82470\n",
      "782/782 [==============================] - 78s 100ms/step - loss: 0.6279 - accuracy: 0.7833 - val_loss: 0.5244 - val_accuracy: 0.8225 - lr: 1.0000e-06\n",
      "Epoch 100/100\n",
      "782/782 [==============================] - ETA: 0s - loss: 0.6313 - accuracy: 0.7810\n",
      "Epoch 100: val_accuracy did not improve from 0.82470\n",
      "782/782 [==============================] - 79s 100ms/step - loss: 0.6313 - accuracy: 0.7810 - val_loss: 0.5242 - val_accuracy: 0.8225 - lr: 1.0000e-06\n",
      "313/313 [==============================] - 5s 15ms/step - loss: 0.5242 - accuracy: 0.8225\n",
      "32/32 [==============================] - 1s 15ms/step - loss: 0.4167 - accuracy: 0.8610\n",
      "32/32 [==============================] - 0s 15ms/step - loss: 0.1864 - accuracy: 0.9390\n",
      "32/32 [==============================] - 0s 15ms/step - loss: 0.8604 - accuracy: 0.7040\n",
      "32/32 [==============================] - 1s 15ms/step - loss: 1.1562 - accuracy: 0.5870\n",
      "32/32 [==============================] - 1s 15ms/step - loss: 0.5646 - accuracy: 0.8120\n",
      "32/32 [==============================] - 1s 16ms/step - loss: 0.8948 - accuracy: 0.6950\n",
      "32/32 [==============================] - 1s 15ms/step - loss: 0.2051 - accuracy: 0.9490\n",
      "32/32 [==============================] - 1s 15ms/step - loss: 0.4406 - accuracy: 0.8530\n",
      "32/32 [==============================] - 0s 15ms/step - loss: 0.3061 - accuracy: 0.8990\n",
      "32/32 [==============================] - 0s 15ms/step - loss: 0.2112 - accuracy: 0.9260\n",
      "\n",
      "Duration -> 8284.5s\n",
      "|__Metric__|___0___|___1___|___2___|___3___|___4___|___5___|___6___|___7___|___8___|___9___|_Total_|\n",
      "|_Accuracy_|_86.1%_|_93.9%_|_70.4%_|_58.7%_|_81.2%_|_69.5%_|_94.9%_|_85.3%_|_89.9%_|_92.6%_|_82.2%_|\n"
     ]
    },
    {
     "data": {
      "image/png": "[encoded data removed]",
      "text/plain": [
       "<Figure size 640x480 with 1 Axes>"
      ]
     },
     "metadata": {},
     "output_type": "display_data"
    },
    {
     "data": {
      "image/png": "[encoded data removed]",
      "text/plain": [
       "<Figure size 640x480 with 1 Axes>"
      ]
     },
     "metadata": {},
     "output_type": "display_data"
    },
    {
     "data": {
      "text/plain": [
       "<keras.src.callbacks.History at 0x284c476a690>"
      ]
     },
     "execution_count": 20,
     "metadata": {},
     "output_type": "execute_result"
    }
   ],
   "source": [
    "model_1 = construct_model_1()\n",
    "model_1 = compile_model_1(model_1)\n",
    "evaluate_model(model_1)"
   ]
  },
  {
   "cell_type": "markdown",
   "metadata": {},
   "source": [
    "### Visualization of the Neural Network Architecture"
   ]
  },
  {
   "cell_type": "code",
   "execution_count": 21,
   "metadata": {},
   "outputs": [
    {
     "name": "stdout",
     "output_type": "stream",
     "text": [
      "Model: \"CNN\"\n",
      "_________________________________________________________________\n",
      " Layer (type)                Output Shape              Param #   \n",
      "=================================================================\n",
      " Conv_1 (Conv2D)             (None, 32, 32, 128)       3584      \n",
      "                                                                 \n",
      " Pooling_1 (MaxPooling2D)    (None, 16, 16, 128)       0         \n",
      "                                                                 \n",
      " Conv_2 (Conv2D)             (None, 16, 16, 128)       147584    \n",
      "                                                                 \n",
      " Pooling_2 (MaxPooling2D)    (None, 8, 8, 128)         0         \n",
      "                                                                 \n",
      " BatchNorm_1 (BatchNormaliz  (None, 8, 8, 128)         512       \n",
      " ation)                                                          \n",
      "                                                                 \n",
      " Conv_3 (Conv2D)             (None, 8, 8, 256)         295168    \n",
      "                                                                 \n",
      " Dropout_1 (Dropout)         (None, 8, 8, 256)         0         \n",
      "                                                                 \n",
      " Conv_4 (Conv2D)             (None, 8, 8, 256)         590080    \n",
      "                                                                 \n",
      " Pooling_3 (MaxPooling2D)    (None, 4, 4, 256)         0         \n",
      "                                                                 \n",
      " Dropout_2 (Dropout)         (None, 4, 4, 256)         0         \n",
      "                                                                 \n",
      " flatten (Flatten)           (None, 4096)              0         \n",
      "                                                                 \n",
      " BatchNorm_2 (BatchNormaliz  (None, 4096)              16384     \n",
      " ation)                                                          \n",
      "                                                                 \n",
      " Dense_1 (Dense)             (None, 512)               2097664   \n",
      "                                                                 \n",
      " Dropout_3 (Dropout)         (None, 512)               0         \n",
      "                                                                 \n",
      " Dense_Output (Dense)        (None, 10)                5130      \n",
      "                                                                 \n",
      "=================================================================\n",
      "Total params: 3156106 (12.04 MB)\n",
      "Trainable params: 3147658 (12.01 MB)\n",
      "Non-trainable params: 8448 (33.00 KB)\n",
      "_________________________________________________________________\n"
     ]
    },
    {
     "data": {
      "image/png": "[encoded data removed]",
      "text/plain": [
       "<PIL.Image.Image image mode=RGBA size=1336x171>"
      ]
     },
     "execution_count": 21,
     "metadata": {},
     "output_type": "execute_result"
    }
   ],
   "source": [
    "model_1.summary()\n",
    "visualkeras.layered_view(model_1)"
   ]
  }
 ],
 "metadata": {
  "kernelspec": {
   "display_name": "Python 3",
   "language": "python",
   "name": "python3"
  },
  "language_info": {
   "codemirror_mode": {
    "name": "ipython",
    "version": 3
   },
   "file_extension": ".py",
   "mimetype": "text/x-python",
   "name": "python",
   "nbconvert_exporter": "python",
   "pygments_lexer": "ipython3",
   "version": "3.11.6"
  }
 },
 "nbformat": 4,
 "nbformat_minor": 2
}
